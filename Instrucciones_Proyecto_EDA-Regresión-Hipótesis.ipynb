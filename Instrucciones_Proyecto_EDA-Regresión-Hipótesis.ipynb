{
 "cells": [
  {
   "cell_type": "markdown",
   "id": "65e34a67",
   "metadata": {},
   "source": [
    "# UNIDAD 2 - PROYECTO: EDA + REGRESIÓN + PRUEBAS DE HIPÓTESIS "
   ]
  },
  {
   "cell_type": "markdown",
   "id": "1d10934b",
   "metadata": {},
   "source": [
    "## Nombre del estudiante:\n",
    "## Número de control:"
   ]
  },
  {
   "cell_type": "markdown",
   "id": "aeadc499",
   "metadata": {},
   "source": [
    "# ETAPA 1: Exploración de los datos."
   ]
  },
  {
   "cell_type": "markdown",
   "id": "f7064eb0",
   "metadata": {},
   "source": [
    "## Paso 1: Cargue el dataset (\"Retrasos.csv\") en un dataframe, muestre información básica, enliste las columnas numéricas y las columnas objeto."
   ]
  },
  {
   "cell_type": "code",
   "execution_count": 1,
   "id": "d9d112ad",
   "metadata": {},
   "outputs": [],
   "source": [
    "# Su código aquí."
   ]
  },
  {
   "cell_type": "markdown",
   "id": "96386289",
   "metadata": {},
   "source": [
    "## Paso 2: Haga conteo de datos nulos (ordene de forma descendente); de las variables numéricas, muestre datos estadísticos; de las variables de tipo objeto, determine cuáles sí son factibles para convertir en categóricas y el porqué."
   ]
  },
  {
   "cell_type": "code",
   "execution_count": 2,
   "id": "c5ced052",
   "metadata": {},
   "outputs": [],
   "source": [
    "# Su código aquí."
   ]
  },
  {
   "cell_type": "markdown",
   "id": "afa0f981",
   "metadata": {},
   "source": [
    "## Paso 3: Identifique si las columnas numéricas cuentan con anomalías, para ello puede apoyarse de gráficos; identifique si las columnas objeto tienen inconsistencias, para ello puede apoyarse de gráficos."
   ]
  },
  {
   "cell_type": "code",
   "execution_count": 3,
   "id": "4fe04a19",
   "metadata": {},
   "outputs": [],
   "source": [
    "# Su código aquí."
   ]
  },
  {
   "cell_type": "markdown",
   "id": "be06aa9f",
   "metadata": {},
   "source": [
    "## Paso 4: Muestre las correlaciones (pearson y spearman) que hay en general (valores numéricos), puede utilizar gráficos, ¿cambian mucho los valores entre cada tipo de coeficiente de correlación?"
   ]
  },
  {
   "cell_type": "code",
   "execution_count": 4,
   "id": "33db9fd7",
   "metadata": {},
   "outputs": [],
   "source": [
    "# Su código aquí."
   ]
  },
  {
   "cell_type": "markdown",
   "id": "f8002583",
   "metadata": {},
   "source": [
    "## Paso 5: Muestre los gráficos de distribución de las columnas, elija el tipo de gráfico adecuado para el tipo de variable que está analizando."
   ]
  },
  {
   "cell_type": "code",
   "execution_count": 5,
   "id": "0b36c5b4",
   "metadata": {},
   "outputs": [],
   "source": [
    "# Su código aquí."
   ]
  },
  {
   "cell_type": "markdown",
   "id": "566c2e63",
   "metadata": {},
   "source": [
    "# ETAPA 2: Manipulación y tratamiento de los datos."
   ]
  },
  {
   "cell_type": "markdown",
   "id": "dea9702f",
   "metadata": {},
   "source": [
    "## Paso 1: Trate los datos nulos, emplee las técnicas que considere más adecuadas de acuerdo al caso específico. Justifique el porqué de la técnicas que escogió."
   ]
  },
  {
   "cell_type": "code",
   "execution_count": 6,
   "id": "7e03453f",
   "metadata": {},
   "outputs": [],
   "source": [
    "# Su código aquí."
   ]
  },
  {
   "cell_type": "markdown",
   "id": "ef80e5ff",
   "metadata": {},
   "source": [
    "## Paso 2: Convierta en categorías las variables objeto que considere adecuadas, en caso de ser necesario, trate las inconsistencias."
   ]
  },
  {
   "cell_type": "code",
   "execution_count": 7,
   "id": "e2df14f4",
   "metadata": {},
   "outputs": [],
   "source": [
    "# Su código aquí."
   ]
  },
  {
   "cell_type": "markdown",
   "id": "eb3e9f2a",
   "metadata": {},
   "source": [
    "## Paso 3: Utilice el coeficiente de variación para determinar qué columnas (variables) numéricas tienen mayor dispersión."
   ]
  },
  {
   "cell_type": "code",
   "execution_count": 8,
   "id": "14f75e6c",
   "metadata": {},
   "outputs": [],
   "source": [
    "# Su código aquí."
   ]
  },
  {
   "cell_type": "markdown",
   "id": "817a20fb",
   "metadata": {},
   "source": [
    "## Paso 4: De las variables con mayor dispersión, presente su distribución, su gráfico boxplot, y describa a qué se debe que haya tanta dispersión."
   ]
  },
  {
   "cell_type": "code",
   "execution_count": 9,
   "id": "db42ddae",
   "metadata": {},
   "outputs": [],
   "source": [
    "# Su código aquí."
   ]
  },
  {
   "cell_type": "markdown",
   "id": "befad9fa",
   "metadata": {},
   "source": [
    "## Paso 5: Conteste las siguientes preguntas acorde a la información obtenida de los datos.\n",
    "#### ¿Considera que con los datos numéricos actuales se pueden realizar predicciones para la columna \"line_item_insurance_usd\"?\n",
    "#### ¿Considera que con los datos numéricos actuales se pueden realizar predicciones para la columna \"late_delivery\"?\n",
    "#### ¿Cree que alguna otra columna (objeto o categórica) se pueda correlacionar fuertemente con \"late_delivery\"?, si es así, ¿cuál o cuáles cree que tendrían una correlación fuerte?"
   ]
  },
  {
   "cell_type": "markdown",
   "id": "e85590c7",
   "metadata": {},
   "source": [
    "# ETAPA 3: Construcción de un modelo de regresión lineal."
   ]
  },
  {
   "cell_type": "markdown",
   "id": "a70554d2",
   "metadata": {},
   "source": [
    "## Paso 1: Seleccionar las columnas que estén más correlacionadas con \"line_item_insurance_usd\" y asígnelas en la variable \"X\", seleccione la columna \"line_item_insurance_usd\" y asignela a la variable \"y\"."
   ]
  },
  {
   "cell_type": "code",
   "execution_count": 10,
   "id": "048cf671",
   "metadata": {},
   "outputs": [],
   "source": [
    "# Su código aquí."
   ]
  },
  {
   "cell_type": "markdown",
   "id": "8a1c0ff8",
   "metadata": {},
   "source": [
    "## Paso 2: Divida en dos muestras los dos dataframes creados anteriormente (X,y), debe tener una muestra para entrenamiento y otra para pruebas, el tamaño de la muestra de entrenamiento debe ser del 80%, asigne una semilla aleatoria con valor de 2033 para poder brindar reproducibilidad."
   ]
  },
  {
   "cell_type": "code",
   "execution_count": 11,
   "id": "949363a5",
   "metadata": {},
   "outputs": [],
   "source": [
    "# Su código aquí."
   ]
  },
  {
   "cell_type": "markdown",
   "id": "08413c8e",
   "metadata": {},
   "source": [
    "## Paso 3: Importe el modelo de regresión lineal (multivariable) de sklearn, entrene el modelo con el set de datos de entrenamiento, posteriormente haga predicciones con el set de pruebas (X_train)."
   ]
  },
  {
   "cell_type": "code",
   "execution_count": 12,
   "id": "0726a35d",
   "metadata": {},
   "outputs": [],
   "source": [
    "# Su código aquí."
   ]
  },
  {
   "cell_type": "markdown",
   "id": "607702d0",
   "metadata": {},
   "source": [
    "## Paso 4: Evalúe el modelo con la métrica \"accuracy_score\" y la métrica \"f1_score\" (ambas disponibles con sklearn)."
   ]
  },
  {
   "cell_type": "code",
   "execution_count": 13,
   "id": "69290cc3",
   "metadata": {},
   "outputs": [],
   "source": [
    "# Su código aquí."
   ]
  },
  {
   "cell_type": "markdown",
   "id": "ad7261ff",
   "metadata": {},
   "source": [
    "## Paso 5: Responda.\n",
    "#### ¿Su modelo fue capaz de realizar predicciones con precisión?\n",
    "#### ¿A qué cree que se deba el rendimiento de su modelo?\n",
    "#### Si selecciona todas las variables y las asigna en X, en lugar de las que tienen correlación más fuerte, ¿cree que el modelo mejore o empeore?"
   ]
  },
  {
   "cell_type": "markdown",
   "id": "6873de38",
   "metadata": {},
   "source": [
    "# ETAPA 4: Hipótesis."
   ]
  },
  {
   "cell_type": "markdown",
   "id": "764ac235",
   "metadata": {},
   "source": [
    "## Paso 1: Defina la hipótesis nula a partir de la siguiente pregunta:\n",
    "#### ¿La proporción de entrega tarde (\"late_delivery\") es mayor a 0.06 (6%)?, asigne el valor de la hipótesis nula a la variable \"Ho\".\n",
    "#### Considere un nivel de significación del 5%."
   ]
  },
  {
   "cell_type": "code",
   "execution_count": 14,
   "id": "2e48b38b",
   "metadata": {},
   "outputs": [],
   "source": [
    "# Su código aquí"
   ]
  },
  {
   "cell_type": "markdown",
   "id": "97c17e53",
   "metadata": {},
   "source": [
    "## Paso 2: Defina la hipótesis alternativa según la pregunta anterior, solo escríba cómo quedaría y qué tipo de prueba de hipótesis se utilizará."
   ]
  },
  {
   "cell_type": "markdown",
   "id": "01e58b1b",
   "metadata": {},
   "source": [
    "Su respuesta:"
   ]
  },
  {
   "cell_type": "markdown",
   "id": "68c20ae0",
   "metadata": {},
   "source": [
    "## Paso 3: Haga una distribución bootstrap de la columna \"late_delivery\" y calcule el error estándar, guárdelo en una variable. El tamaño de la lista de la distribución de boostrap queda a libre elección, muestre un histograma de la distribución bootstrap."
   ]
  },
  {
   "cell_type": "code",
   "execution_count": 15,
   "id": "8274eae9",
   "metadata": {},
   "outputs": [],
   "source": [
    "# Su código aquí."
   ]
  },
  {
   "cell_type": "markdown",
   "id": "150c6235",
   "metadata": {},
   "source": [
    "## Paso 4: Calcule la puntuación Z y guárdela en una variable."
   ]
  },
  {
   "cell_type": "code",
   "execution_count": 16,
   "id": "79438f7e",
   "metadata": {},
   "outputs": [],
   "source": [
    "# Su código aquí."
   ]
  },
  {
   "cell_type": "markdown",
   "id": "1893e94d",
   "metadata": {},
   "source": [
    "## Paso 5: Dependiendo del tipo de prueba, calcule el valor de P (p-value) y diga si puede rechazar (o falla al rechazar) la hipótesis nula.\n",
    "## Calcule el intervalo de confianza, utilice los cuantiles adecuados dado el nivel de significación establecido previamente."
   ]
  },
  {
   "cell_type": "code",
   "execution_count": 17,
   "id": "21ba1393",
   "metadata": {},
   "outputs": [],
   "source": [
    "# Su código aquí."
   ]
  },
  {
   "cell_type": "markdown",
   "id": "44e11e14",
   "metadata": {},
   "source": [
    "# ETAPA 5: Publicando el notebook."
   ]
  },
  {
   "cell_type": "markdown",
   "id": "a8ee1d11",
   "metadata": {},
   "source": [
    "## Paso 1: Al igual que con el proyecto anterior, haga un repositorio público en su cuenta de GitHub."
   ]
  },
  {
   "cell_type": "markdown",
   "id": "66fb0f0c",
   "metadata": {},
   "source": [
    "## Paso 2: Suba este archivo jupyter-notebook junto con el archivo de instrucciones y el set de datos."
   ]
  },
  {
   "cell_type": "markdown",
   "id": "7c7a84e4",
   "metadata": {},
   "source": [
    "## Paso 3: Documente apropiadamente el proyecto en el repositorio público, haga uso del archivo \"README\" que suele crearse."
   ]
  },
  {
   "cell_type": "markdown",
   "id": "69abc1fd",
   "metadata": {},
   "source": [
    "## Paso 4: Copie el enlace al repositorio y mándelo al entregar la actividad. \n",
    "# IMPORTANTE: Al entregar este proyecto, debe entregar este archivo y el enlace a la copia que estará en GitHub, se necesitan de ambas cosas."
   ]
  }
 ],
 "metadata": {
  "kernelspec": {
   "display_name": "Python 3 (ipykernel)",
   "language": "python",
   "name": "python3"
  },
  "language_info": {
   "codemirror_mode": {
    "name": "ipython",
    "version": 3
   },
   "file_extension": ".py",
   "mimetype": "text/x-python",
   "name": "python",
   "nbconvert_exporter": "python",
   "pygments_lexer": "ipython3",
   "version": "3.8.17"
  }
 },
 "nbformat": 4,
 "nbformat_minor": 5
}
