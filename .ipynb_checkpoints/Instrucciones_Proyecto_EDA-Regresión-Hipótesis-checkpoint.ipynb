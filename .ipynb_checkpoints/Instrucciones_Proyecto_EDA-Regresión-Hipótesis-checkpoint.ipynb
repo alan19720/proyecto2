{
 "cells": [
  {
   "cell_type": "markdown",
   "id": "65e34a67",
   "metadata": {},
   "source": [
    "# UNIDAD 2 - PROYECTO: EDA + REGRESIÓN + PRUEBAS DE HIPÓTESIS "
   ]
  },
  {
   "cell_type": "markdown",
   "id": "1d10934b",
   "metadata": {},
   "source": [
    "## Nombre del estudiante: ALAN OMAR TAPIA CERVANTES\n",
    "## Número de control: 19120243"
   ]
  },
  {
   "cell_type": "markdown",
   "id": "aeadc499",
   "metadata": {},
   "source": [
    "# ETAPA 1: Exploración de los datos."
   ]
  },
  {
   "cell_type": "markdown",
   "id": "f7064eb0",
   "metadata": {},
   "source": [
    "## Paso 1: Cargue el dataset (\"Retrasos.csv\") en un dataframe, muestre información básica, enliste las columnas numéricas y las columnas objeto."
   ]
  },
  {
   "cell_type": "code",
   "execution_count": 2,
   "id": "659de858",
   "metadata": {},
   "outputs": [],
   "source": [
    "# Espacio para realizar la importación de librerías\n",
    "import pandas as pd\n",
    "import seaborn as sns\n",
    "import matplotlib.pyplot as plt"
   ]
  },
  {
   "cell_type": "code",
   "execution_count": 3,
   "id": "d9d112ad",
   "metadata": {},
   "outputs": [],
   "source": [
    "ubicacionArchivo = \"retrasos.csv\"\n",
    "# Carga de un CSV a un archivo tipo DataFrame por medio de pandas.\n",
    "df = pd.read_csv(ubicacionArchivo)"
   ]
  },
  {
   "cell_type": "markdown",
   "id": "96386289",
   "metadata": {},
   "source": [
    "## Paso 2: Haga conteo de datos nulos (ordene de forma descendente); de las variables numéricas, muestre datos estadísticos; de las variables de tipo objeto, determine cuáles sí son factibles para convertir en categóricas y el porqué."
   ]
  },
  {
   "cell_type": "code",
   "execution_count": 4,
   "id": "c5ced052",
   "metadata": {},
   "outputs": [
    {
     "name": "stdout",
     "output_type": "stream",
     "text": [
      "<class 'pandas.core.frame.DataFrame'>\n",
      "RangeIndex: 1000 entries, 0 to 999\n",
      "Data columns (total 28 columns):\n",
      " #   Column                    Non-Null Count  Dtype  \n",
      "---  ------                    --------------  -----  \n",
      " 0   id                        1000 non-null   int64  \n",
      " 1   country                   1000 non-null   object \n",
      " 2   managed_by                1000 non-null   object \n",
      " 3   fulfill_via               1000 non-null   object \n",
      " 4   vendor_inco_term          1000 non-null   object \n",
      " 5   shipment_mode             1000 non-null   object \n",
      " 6   late_delivery             1000 non-null   int64  \n",
      " 7   late                      1000 non-null   object \n",
      " 8   product_group             1000 non-null   object \n",
      " 9   sub_classification        1000 non-null   object \n",
      " 10  vendor                    1000 non-null   object \n",
      " 11  item_description          1000 non-null   object \n",
      " 12  molecule_test_type        1000 non-null   object \n",
      " 13  brand                     1000 non-null   object \n",
      " 14  dosage                    591 non-null    object \n",
      " 15  dosage_form               1000 non-null   object \n",
      " 16  unit_of_measure_per_pack  1000 non-null   int64  \n",
      " 17  line_item_quantity        1000 non-null   int64  \n",
      " 18  line_item_value           1000 non-null   float64\n",
      " 19  pack_price                1000 non-null   float64\n",
      " 20  unit_price                1000 non-null   float64\n",
      " 21  unit_cost                 17 non-null     float64\n",
      " 22  manufacturing_site        1000 non-null   object \n",
      " 23  first_line_designation    1000 non-null   object \n",
      " 24  weight_kilograms          1000 non-null   int64  \n",
      " 25  freight_cost_usd          986 non-null    float64\n",
      " 26  freight_cost_groups       986 non-null    object \n",
      " 27  line_item_insurance_usd   966 non-null    float64\n",
      "dtypes: float64(6), int64(5), object(17)\n",
      "memory usage: 218.9+ KB\n",
      "None\n"
     ]
    }
   ],
   "source": [
    "# Mostramos la informacion del dataSet\n",
    "print(df.info())"
   ]
  },
  {
   "cell_type": "code",
   "execution_count": 5,
   "id": "6156cc3b",
   "metadata": {},
   "outputs": [
    {
     "data": {
      "text/plain": [
       "unit_cost                   983\n",
       "dosage                      409\n",
       "line_item_insurance_usd      34\n",
       "freight_cost_groups          14\n",
       "freight_cost_usd             14\n",
       "fulfill_via                   0\n",
       "unit_of_measure_per_pack      0\n",
       "weight_kilograms              0\n",
       "first_line_designation        0\n",
       "manufacturing_site            0\n",
       "managed_by                    0\n",
       "unit_price                    0\n",
       "pack_price                    0\n",
       "line_item_value               0\n",
       "line_item_quantity            0\n",
       "dosage_form                   0\n",
       "vendor_inco_term              0\n",
       "country                       0\n",
       "brand                         0\n",
       "molecule_test_type            0\n",
       "item_description              0\n",
       "vendor                        0\n",
       "sub_classification            0\n",
       "product_group                 0\n",
       "late                          0\n",
       "late_delivery                 0\n",
       "shipment_mode                 0\n",
       "id                            0\n",
       "dtype: int64"
      ]
     },
     "execution_count": 5,
     "metadata": {},
     "output_type": "execute_result"
    }
   ],
   "source": [
    "# Contabilizamos los valores nulos por columna\n",
    "df.isnull().sum().sort_values(ascending=False)"
   ]
  },
  {
   "cell_type": "code",
   "execution_count": 6,
   "id": "b6386c95",
   "metadata": {},
   "outputs": [
    {
     "data": {
      "text/html": [
       "<div>\n",
       "<style scoped>\n",
       "    .dataframe tbody tr th:only-of-type {\n",
       "        vertical-align: middle;\n",
       "    }\n",
       "\n",
       "    .dataframe tbody tr th {\n",
       "        vertical-align: top;\n",
       "    }\n",
       "\n",
       "    .dataframe thead th {\n",
       "        text-align: right;\n",
       "    }\n",
       "</style>\n",
       "<table border=\"1\" class=\"dataframe\">\n",
       "  <thead>\n",
       "    <tr style=\"text-align: right;\">\n",
       "      <th></th>\n",
       "      <th>id</th>\n",
       "      <th>late_delivery</th>\n",
       "      <th>unit_of_measure_per_pack</th>\n",
       "      <th>line_item_quantity</th>\n",
       "      <th>line_item_value</th>\n",
       "      <th>pack_price</th>\n",
       "      <th>unit_price</th>\n",
       "      <th>unit_cost</th>\n",
       "      <th>weight_kilograms</th>\n",
       "      <th>freight_cost_usd</th>\n",
       "      <th>line_item_insurance_usd</th>\n",
       "    </tr>\n",
       "  </thead>\n",
       "  <tbody>\n",
       "    <tr>\n",
       "      <th>count</th>\n",
       "      <td>1000.000000</td>\n",
       "      <td>1000.00000</td>\n",
       "      <td>1000.000000</td>\n",
       "      <td>1000.000000</td>\n",
       "      <td>1.000000e+03</td>\n",
       "      <td>1000.000000</td>\n",
       "      <td>1000.000000</td>\n",
       "      <td>17.000000</td>\n",
       "      <td>1000.000000</td>\n",
       "      <td>986.000000</td>\n",
       "      <td>966.000000</td>\n",
       "    </tr>\n",
       "    <tr>\n",
       "      <th>mean</th>\n",
       "      <td>39239.957000</td>\n",
       "      <td>0.06100</td>\n",
       "      <td>78.675000</td>\n",
       "      <td>15923.379000</td>\n",
       "      <td>1.542272e+05</td>\n",
       "      <td>36.570830</td>\n",
       "      <td>1.094050</td>\n",
       "      <td>0.302294</td>\n",
       "      <td>1947.682000</td>\n",
       "      <td>10896.676856</td>\n",
       "      <td>245.143209</td>\n",
       "    </tr>\n",
       "    <tr>\n",
       "      <th>std</th>\n",
       "      <td>24878.296938</td>\n",
       "      <td>0.23945</td>\n",
       "      <td>91.124569</td>\n",
       "      <td>37793.936877</td>\n",
       "      <td>2.160517e+05</td>\n",
       "      <td>47.611183</td>\n",
       "      <td>3.356263</td>\n",
       "      <td>0.351540</td>\n",
       "      <td>3125.348148</td>\n",
       "      <td>14267.588869</td>\n",
       "      <td>357.305275</td>\n",
       "    </tr>\n",
       "    <tr>\n",
       "      <th>min</th>\n",
       "      <td>1.000000</td>\n",
       "      <td>0.00000</td>\n",
       "      <td>1.000000</td>\n",
       "      <td>1.000000</td>\n",
       "      <td>0.000000e+00</td>\n",
       "      <td>0.000000</td>\n",
       "      <td>0.000000</td>\n",
       "      <td>0.000000</td>\n",
       "      <td>1.000000</td>\n",
       "      <td>30.000000</td>\n",
       "      <td>0.000000</td>\n",
       "    </tr>\n",
       "    <tr>\n",
       "      <th>25%</th>\n",
       "      <td>17055.000000</td>\n",
       "      <td>0.00000</td>\n",
       "      <td>30.000000</td>\n",
       "      <td>600.000000</td>\n",
       "      <td>1.181160e+04</td>\n",
       "      <td>6.497500</td>\n",
       "      <td>0.110000</td>\n",
       "      <td>0.050000</td>\n",
       "      <td>162.750000</td>\n",
       "      <td>1946.497500</td>\n",
       "      <td>16.845000</td>\n",
       "    </tr>\n",
       "    <tr>\n",
       "      <th>50%</th>\n",
       "      <td>38283.500000</td>\n",
       "      <td>0.00000</td>\n",
       "      <td>60.000000</td>\n",
       "      <td>2992.000000</td>\n",
       "      <td>6.360000e+04</td>\n",
       "      <td>21.000000</td>\n",
       "      <td>0.380000</td>\n",
       "      <td>0.120000</td>\n",
       "      <td>909.000000</td>\n",
       "      <td>5806.750000</td>\n",
       "      <td>100.700000</td>\n",
       "    </tr>\n",
       "    <tr>\n",
       "      <th>75%</th>\n",
       "      <td>62036.500000</td>\n",
       "      <td>0.00000</td>\n",
       "      <td>100.000000</td>\n",
       "      <td>11733.000000</td>\n",
       "      <td>2.178262e+05</td>\n",
       "      <td>70.000000</td>\n",
       "      <td>0.890000</td>\n",
       "      <td>0.500000</td>\n",
       "      <td>2526.000000</td>\n",
       "      <td>14821.792500</td>\n",
       "      <td>330.000000</td>\n",
       "    </tr>\n",
       "    <tr>\n",
       "      <th>max</th>\n",
       "      <td>82105.000000</td>\n",
       "      <td>1.00000</td>\n",
       "      <td>1000.000000</td>\n",
       "      <td>515000.000000</td>\n",
       "      <td>2.458454e+06</td>\n",
       "      <td>400.000000</td>\n",
       "      <td>24.500000</td>\n",
       "      <td>1.100000</td>\n",
       "      <td>38681.000000</td>\n",
       "      <td>161962.320000</td>\n",
       "      <td>3446.750000</td>\n",
       "    </tr>\n",
       "  </tbody>\n",
       "</table>\n",
       "</div>"
      ],
      "text/plain": [
       "                 id  late_delivery  unit_of_measure_per_pack  \\\n",
       "count   1000.000000     1000.00000               1000.000000   \n",
       "mean   39239.957000        0.06100                 78.675000   \n",
       "std    24878.296938        0.23945                 91.124569   \n",
       "min        1.000000        0.00000                  1.000000   \n",
       "25%    17055.000000        0.00000                 30.000000   \n",
       "50%    38283.500000        0.00000                 60.000000   \n",
       "75%    62036.500000        0.00000                100.000000   \n",
       "max    82105.000000        1.00000               1000.000000   \n",
       "\n",
       "       line_item_quantity  line_item_value   pack_price   unit_price  \\\n",
       "count         1000.000000     1.000000e+03  1000.000000  1000.000000   \n",
       "mean         15923.379000     1.542272e+05    36.570830     1.094050   \n",
       "std          37793.936877     2.160517e+05    47.611183     3.356263   \n",
       "min              1.000000     0.000000e+00     0.000000     0.000000   \n",
       "25%            600.000000     1.181160e+04     6.497500     0.110000   \n",
       "50%           2992.000000     6.360000e+04    21.000000     0.380000   \n",
       "75%          11733.000000     2.178262e+05    70.000000     0.890000   \n",
       "max         515000.000000     2.458454e+06   400.000000    24.500000   \n",
       "\n",
       "       unit_cost  weight_kilograms  freight_cost_usd  line_item_insurance_usd  \n",
       "count  17.000000       1000.000000        986.000000               966.000000  \n",
       "mean    0.302294       1947.682000      10896.676856               245.143209  \n",
       "std     0.351540       3125.348148      14267.588869               357.305275  \n",
       "min     0.000000          1.000000         30.000000                 0.000000  \n",
       "25%     0.050000        162.750000       1946.497500                16.845000  \n",
       "50%     0.120000        909.000000       5806.750000               100.700000  \n",
       "75%     0.500000       2526.000000      14821.792500               330.000000  \n",
       "max     1.100000      38681.000000     161962.320000              3446.750000  "
      ]
     },
     "metadata": {},
     "output_type": "display_data"
    }
   ],
   "source": [
    "# sacamos los datos estadisticos de las variables numericas\n",
    "display(df.describe())"
   ]
  },
  {
   "cell_type": "code",
   "execution_count": 7,
   "id": "45bbc1fb",
   "metadata": {},
   "outputs": [
    {
     "name": "stdout",
     "output_type": "stream",
     "text": [
      "valores country 31\n",
      "valores managed_by 1\n",
      "valores fulfill_via 1\n",
      "valores vendor_inco_term 5\n",
      "valores shipment_mode 3\n",
      "valores late 2\n",
      "valores product_group 4\n",
      "valores sub_classification 6\n",
      "valores vendor 36\n",
      "valores item_description 105\n",
      "valores molecule_test_type 62\n",
      "valores brand 33\n",
      "valores dosage 41\n",
      "valores dosage_form 15\n",
      "valores manufacturing_site 50\n",
      "valores first_line_designation 1\n",
      "valores freight_cost_groups 2\n"
     ]
    }
   ],
   "source": [
    "# Obtenemos las columnas de tipo objeto\n",
    "columnas = df.select_dtypes(include=['object']).columns\n",
    "\n",
    "# Muestramos los valores únicos que pueden tomar las columnas de tipo objeto\n",
    "for col in columnas:\n",
    "    print(\"valores\",col,df[col].nunique())"
   ]
  },
  {
   "cell_type": "markdown",
   "id": "48908f2e",
   "metadata": {},
   "source": [
    "Analizando las columnas llegamos a la conclusión que son posibles a categorizar todas las que sus posibles valores son menores o igual a 50 ya que eso representa el 5% en funcion a la catidad de filas."
   ]
  },
  {
   "cell_type": "markdown",
   "id": "afa0f981",
   "metadata": {},
   "source": [
    "## Paso 3: Identifique si las columnas numéricas cuentan con anomalías, para ello puede apoyarse de gráficos; identifique si las columnas objeto tienen inconsistencias, para ello puede apoyarse de gráficos."
   ]
  },
  {
   "cell_type": "code",
   "execution_count": 8,
   "id": "4fe04a19",
   "metadata": {},
   "outputs": [
    {
     "data": {
      "image/png": "[encoded data removed]",
      "text/plain": [
       "<Figure size 1200x600 with 1 Axes>"
      ]
     },
     "metadata": {},
     "output_type": "display_data"
    },
    {
     "data": {
      "image/png": "[encoded data removed]",
      "text/plain": [
       "<Figure size 1500x600 with 12 Axes>"
      ]
     },
     "metadata": {},
     "output_type": "display_data"
    }
   ],
   "source": [
    "# Boxplot para columnas numéricas\n",
    "numerical_columns = df.select_dtypes(include=['int', 'float']).columns\n",
    "for columna in numerical_columnas.columns:\n",
    "    plt.figure(figsize=(6, 4))  # Ajustar el tamaño de la figura si es necesario\n",
    "    sns.boxplot(data=df_numerico[columna], orient=\"h\")  # Crear el boxplot horizontal\n",
    "    plt.title(f'Boxplot de {columna}')  # Título del gráfico\n",
    "    plt.show()  # Mostrar el gráfico"
   ]
  },
  {
   "cell_type": "markdown",
   "id": "be06aa9f",
   "metadata": {},
   "source": [
    "## Paso 4: Muestre las correlaciones (pearson y spearman) que hay en general (valores numéricos), puede utilizar gráficos, ¿cambian mucho los valores entre cada tipo de coeficiente de correlación?"
   ]
  },
  {
   "cell_type": "code",
   "execution_count": 4,
   "id": "33db9fd7",
   "metadata": {},
   "outputs": [],
   "source": [
    "# Su código aquí."
   ]
  },
  {
   "cell_type": "markdown",
   "id": "f8002583",
   "metadata": {},
   "source": [
    "## Paso 5: Muestre los gráficos de distribución de las columnas, elija el tipo de gráfico adecuado para el tipo de variable que está analizando."
   ]
  },
  {
   "cell_type": "code",
   "execution_count": 5,
   "id": "0b36c5b4",
   "metadata": {},
   "outputs": [],
   "source": [
    "# Su código aquí."
   ]
  },
  {
   "cell_type": "markdown",
   "id": "566c2e63",
   "metadata": {},
   "source": [
    "# ETAPA 2: Manipulación y tratamiento de los datos."
   ]
  },
  {
   "cell_type": "markdown",
   "id": "dea9702f",
   "metadata": {},
   "source": [
    "## Paso 1: Trate los datos nulos, emplee las técnicas que considere más adecuadas de acuerdo al caso específico. Justifique el porqué de la técnicas que escogió."
   ]
  },
  {
   "cell_type": "code",
   "execution_count": 6,
   "id": "7e03453f",
   "metadata": {},
   "outputs": [],
   "source": [
    "# Su código aquí."
   ]
  },
  {
   "cell_type": "markdown",
   "id": "ef80e5ff",
   "metadata": {},
   "source": [
    "## Paso 2: Convierta en categorías las variables objeto que considere adecuadas, en caso de ser necesario, trate las inconsistencias."
   ]
  },
  {
   "cell_type": "code",
   "execution_count": 7,
   "id": "e2df14f4",
   "metadata": {},
   "outputs": [],
   "source": [
    "# Su código aquí."
   ]
  },
  {
   "cell_type": "markdown",
   "id": "eb3e9f2a",
   "metadata": {},
   "source": [
    "## Paso 3: Utilice el coeficiente de variación para determinar qué columnas (variables) numéricas tienen mayor dispersión."
   ]
  },
  {
   "cell_type": "code",
   "execution_count": 8,
   "id": "14f75e6c",
   "metadata": {},
   "outputs": [],
   "source": [
    "# Su código aquí."
   ]
  },
  {
   "cell_type": "markdown",
   "id": "817a20fb",
   "metadata": {},
   "source": [
    "## Paso 4: De las variables con mayor dispersión, presente su distribución, su gráfico boxplot, y describa a qué se debe que haya tanta dispersión."
   ]
  },
  {
   "cell_type": "code",
   "execution_count": 9,
   "id": "db42ddae",
   "metadata": {},
   "outputs": [],
   "source": [
    "# Su código aquí."
   ]
  },
  {
   "cell_type": "markdown",
   "id": "befad9fa",
   "metadata": {},
   "source": [
    "## Paso 5: Conteste las siguientes preguntas acorde a la información obtenida de los datos.\n",
    "#### ¿Considera que con los datos numéricos actuales se pueden realizar predicciones para la columna \"line_item_insurance_usd\"?\n",
    "#### ¿Considera que con los datos numéricos actuales se pueden realizar predicciones para la columna \"late_delivery\"?\n",
    "#### ¿Cree que alguna otra columna (objeto o categórica) se pueda correlacionar fuertemente con \"late_delivery\"?, si es así, ¿cuál o cuáles cree que tendrían una correlación fuerte?"
   ]
  },
  {
   "cell_type": "markdown",
   "id": "e85590c7",
   "metadata": {},
   "source": [
    "# ETAPA 3: Construcción de un modelo de regresión lineal."
   ]
  },
  {
   "cell_type": "markdown",
   "id": "a70554d2",
   "metadata": {},
   "source": [
    "## Paso 1: Seleccionar las columnas que estén más correlacionadas con \"line_item_insurance_usd\" y asígnelas en la variable \"X\", seleccione la columna \"line_item_insurance_usd\" y asignela a la variable \"y\"."
   ]
  },
  {
   "cell_type": "code",
   "execution_count": 10,
   "id": "048cf671",
   "metadata": {},
   "outputs": [],
   "source": [
    "# Su código aquí."
   ]
  },
  {
   "cell_type": "markdown",
   "id": "8a1c0ff8",
   "metadata": {},
   "source": [
    "## Paso 2: Divida en dos muestras los dos dataframes creados anteriormente (X,y), debe tener una muestra para entrenamiento y otra para pruebas, el tamaño de la muestra de entrenamiento debe ser del 80%, asigne una semilla aleatoria con valor de 2033 para poder brindar reproducibilidad."
   ]
  },
  {
   "cell_type": "code",
   "execution_count": 11,
   "id": "949363a5",
   "metadata": {},
   "outputs": [],
   "source": [
    "# Su código aquí."
   ]
  },
  {
   "cell_type": "markdown",
   "id": "08413c8e",
   "metadata": {},
   "source": [
    "## Paso 3: Importe el modelo de regresión lineal (multivariable) de sklearn, entrene el modelo con el set de datos de entrenamiento, posteriormente haga predicciones con el set de pruebas (X_train)."
   ]
  },
  {
   "cell_type": "code",
   "execution_count": 12,
   "id": "0726a35d",
   "metadata": {},
   "outputs": [],
   "source": [
    "# Su código aquí."
   ]
  },
  {
   "cell_type": "markdown",
   "id": "607702d0",
   "metadata": {},
   "source": [
    "## Paso 4: Evalúe el modelo con la métrica \"accuracy_score\" y la métrica \"f1_score\" (ambas disponibles con sklearn)."
   ]
  },
  {
   "cell_type": "code",
   "execution_count": 13,
   "id": "69290cc3",
   "metadata": {},
   "outputs": [],
   "source": [
    "# Su código aquí."
   ]
  },
  {
   "cell_type": "markdown",
   "id": "ad7261ff",
   "metadata": {},
   "source": [
    "## Paso 5: Responda.\n",
    "#### ¿Su modelo fue capaz de realizar predicciones con precisión?\n",
    "#### ¿A qué cree que se deba el rendimiento de su modelo?\n",
    "#### Si selecciona todas las variables y las asigna en X, en lugar de las que tienen correlación más fuerte, ¿cree que el modelo mejore o empeore?"
   ]
  },
  {
   "cell_type": "markdown",
   "id": "6873de38",
   "metadata": {},
   "source": [
    "# ETAPA 4: Hipótesis."
   ]
  },
  {
   "cell_type": "markdown",
   "id": "764ac235",
   "metadata": {},
   "source": [
    "## Paso 1: Defina la hipótesis nula a partir de la siguiente pregunta:\n",
    "#### ¿La proporción de entrega tarde (\"late_delivery\") es mayor a 0.06 (6%)?, asigne el valor de la hipótesis nula a la variable \"Ho\".\n",
    "#### Considere un nivel de significación del 5%."
   ]
  },
  {
   "cell_type": "code",
   "execution_count": 14,
   "id": "2e48b38b",
   "metadata": {},
   "outputs": [],
   "source": [
    "# Su código aquí"
   ]
  },
  {
   "cell_type": "markdown",
   "id": "97c17e53",
   "metadata": {},
   "source": [
    "## Paso 2: Defina la hipótesis alternativa según la pregunta anterior, solo escríba cómo quedaría y qué tipo de prueba de hipótesis se utilizará."
   ]
  },
  {
   "cell_type": "markdown",
   "id": "01e58b1b",
   "metadata": {},
   "source": [
    "Su respuesta:"
   ]
  },
  {
   "cell_type": "markdown",
   "id": "68c20ae0",
   "metadata": {},
   "source": [
    "## Paso 3: Haga una distribución bootstrap de la columna \"late_delivery\" y calcule el error estándar, guárdelo en una variable. El tamaño de la lista de la distribución de boostrap queda a libre elección, muestre un histograma de la distribución bootstrap."
   ]
  },
  {
   "cell_type": "code",
   "execution_count": 15,
   "id": "8274eae9",
   "metadata": {},
   "outputs": [],
   "source": [
    "# Su código aquí."
   ]
  },
  {
   "cell_type": "markdown",
   "id": "150c6235",
   "metadata": {},
   "source": [
    "## Paso 4: Calcule la puntuación Z y guárdela en una variable."
   ]
  },
  {
   "cell_type": "code",
   "execution_count": 16,
   "id": "79438f7e",
   "metadata": {},
   "outputs": [],
   "source": [
    "# Su código aquí."
   ]
  },
  {
   "cell_type": "markdown",
   "id": "1893e94d",
   "metadata": {},
   "source": [
    "## Paso 5: Dependiendo del tipo de prueba, calcule el valor de P (p-value) y diga si puede rechazar (o falla al rechazar) la hipótesis nula.\n",
    "## Calcule el intervalo de confianza, utilice los cuantiles adecuados dado el nivel de significación establecido previamente."
   ]
  },
  {
   "cell_type": "code",
   "execution_count": 17,
   "id": "21ba1393",
   "metadata": {},
   "outputs": [],
   "source": [
    "# Su código aquí."
   ]
  },
  {
   "cell_type": "markdown",
   "id": "44e11e14",
   "metadata": {},
   "source": [
    "# ETAPA 5: Publicando el notebook."
   ]
  },
  {
   "cell_type": "markdown",
   "id": "a8ee1d11",
   "metadata": {},
   "source": [
    "## Paso 1: Al igual que con el proyecto anterior, haga un repositorio público en su cuenta de GitHub."
   ]
  },
  {
   "cell_type": "markdown",
   "id": "66fb0f0c",
   "metadata": {},
   "source": [
    "## Paso 2: Suba este archivo jupyter-notebook junto con el archivo de instrucciones y el set de datos."
   ]
  },
  {
   "cell_type": "markdown",
   "id": "7c7a84e4",
   "metadata": {},
   "source": [
    "## Paso 3: Documente apropiadamente el proyecto en el repositorio público, haga uso del archivo \"README\" que suele crearse."
   ]
  },
  {
   "cell_type": "markdown",
   "id": "69abc1fd",
   "metadata": {},
   "source": [
    "## Paso 4: Copie el enlace al repositorio y mándelo al entregar la actividad. \n",
    "# IMPORTANTE: Al entregar este proyecto, debe entregar este archivo y el enlace a la copia que estará en GitHub, se necesitan de ambas cosas."
   ]
  }
 ],
 "metadata": {
  "kernelspec": {
   "display_name": "Python 3 (ipykernel)",
   "language": "python",
   "name": "python3"
  },
  "language_info": {
   "codemirror_mode": {
    "name": "ipython",
    "version": 3
   },
   "file_extension": ".py",
   "mimetype": "text/x-python",
   "name": "python",
   "nbconvert_exporter": "python",
   "pygments_lexer": "ipython3",
   "version": "3.11.4"
  }
 },
 "nbformat": 4,
 "nbformat_minor": 5
}
